{
 "cells": [
  {
   "cell_type": "code",
   "execution_count": 17,
   "id": "2c3203cd",
   "metadata": {},
   "outputs": [
    {
     "name": "stdout",
     "output_type": "stream",
     "text": [
      "Requirement already satisfied: selenium in c:\\users\\leigh\\anaconda3\\lib\\site-packages (3.141.0)\n",
      "Requirement already satisfied: urllib3 in c:\\users\\leigh\\anaconda3\\lib\\site-packages (from selenium) (1.26.4)\n"
     ]
    }
   ],
   "source": [
    "!pip install selenium"
   ]
  },
  {
   "cell_type": "code",
   "execution_count": 112,
   "id": "4c55043f",
   "metadata": {},
   "outputs": [],
   "source": [
    "from selenium import webdriver\n",
    "from selenium.webdriver.common.keys import Keys\n",
    "import time"
   ]
  },
  {
   "cell_type": "code",
   "execution_count": 236,
   "id": "5321f35b",
   "metadata": {},
   "outputs": [],
   "source": [
    "PATH = \"D:\\Software\\chromedriver\\chromedriver.exe\"\n",
    "driver = webdriver.Chrome(PATH)"
   ]
  },
  {
   "cell_type": "code",
   "execution_count": 237,
   "id": "bd1af8a5",
   "metadata": {},
   "outputs": [],
   "source": [
    "driver.get(\"http://guessthecorrelation.com/\")"
   ]
  },
  {
   "cell_type": "code",
   "execution_count": 238,
   "id": "bc49a179",
   "metadata": {},
   "outputs": [],
   "source": [
    "menu = driver.find_element_by_id(\"menu-content\")\n",
    "new_game = menu.find_element_by_id(\"new-game\")"
   ]
  },
  {
   "cell_type": "code",
   "execution_count": 239,
   "id": "6b1c5409",
   "metadata": {},
   "outputs": [],
   "source": [
    "new_game.click()"
   ]
  },
  {
   "cell_type": "code",
   "execution_count": 240,
   "id": "03220697-2d8e-4c5e-b407-2b79581c0566",
   "metadata": {},
   "outputs": [],
   "source": [
    "alert = driver.switch_to.alert"
   ]
  },
  {
   "cell_type": "code",
   "execution_count": 241,
   "id": "1ab3514a-87e0-4a51-b941-9d30705e28fd",
   "metadata": {},
   "outputs": [],
   "source": [
    "#prompt for username, first try, this will fail\n",
    "alert.send_keys(\"leightonvg\")\n",
    "alert.accept() # send the usernamer\n",
    "time.sleep(1)\n",
    "alert.accept() # accept the fail message"
   ]
  },
  {
   "cell_type": "code",
   "execution_count": 242,
   "id": "756733ee-6754-4d5d-b87d-9f80d0dc7fa8",
   "metadata": {},
   "outputs": [],
   "source": [
    "count = 1\n",
    "while True:\n",
    "    new_game.click()\n",
    "    new_alert = driver.switch_to.alert\n",
    "    user_name = \"leightonvg{}\".format(count)\n",
    "    new_alert.send_keys(user_name)\n",
    "    new_alert.accept()\n",
    "    \n",
    "    #wait for the next alert if needed\n",
    "    time.sleep(1)\n",
    "    \n",
    "    # check if can be broken\n",
    "    if alert.text != \"Sorry, username already exists. Please try another one.\":\n",
    "        break\n",
    "        \n",
    "    # handle the failed username\n",
    "    failed_alert = driver.switch_to.alert\n",
    "    failed_alert.accept()\n",
    "    \n",
    "    time.sleep(1)\n",
    "    count += 1"
   ]
  },
  {
   "cell_type": "code",
   "execution_count": 243,
   "id": "fdf07a2b-4a28-445e-bb1d-1706a20b80e2",
   "metadata": {},
   "outputs": [
    {
     "name": "stdout",
     "output_type": "stream",
     "text": [
      "Hello leightonvg3!\n",
      "Please make sure you have read the privacy policy in the 'about' section before you start playing.\n",
      "Click 'new game' to get started.\n"
     ]
    }
   ],
   "source": [
    "# start the new game after getting a username\n",
    "alert_succes = driver.switch_to.alert\n",
    "print(alert_succes.text)\n",
    "alert_succes.accept()\n",
    "time.sleep(1)\n",
    "new_game.click()"
   ]
  },
  {
   "cell_type": "code",
   "execution_count": 245,
   "id": "d3ef0018-dc2d-4057-b4f0-63ea5cfa8e94",
   "metadata": {},
   "outputs": [],
   "source": [
    "#create some interactions for playing the game\n",
    "game = driver.find_element_by_id(\"input-div\")\n",
    "guess = game.find_element_by_id(\"guess-input\")\n",
    "submit = game.find_element_by_id(\"submit-btn\")\n",
    "next_guess = game.find_element_by_id(\"next-btn\")\n",
    "play_again = driver.find_element_by_id(\"play-again-btn\")"
   ]
  },
  {
   "cell_type": "code",
   "execution_count": 267,
   "id": "617ee5f5-9965-498b-a1ce-ffd14942309e",
   "metadata": {},
   "outputs": [],
   "source": [
    "#take a guess between 0 and 100\n",
    "guess.send_keys(\"75\")"
   ]
  },
  {
   "cell_type": "code",
   "execution_count": 268,
   "id": "8f3e72c4-bb86-4f1f-8a03-cc3515538f1b",
   "metadata": {},
   "outputs": [],
   "source": [
    "# submit the guess\n",
    "submit.click()"
   ]
  },
  {
   "cell_type": "code",
   "execution_count": 269,
   "id": "427a3020-2f53-4ecc-857b-e73b94ab1daf",
   "metadata": {},
   "outputs": [],
   "source": [
    "# next guess\n",
    "try:\n",
    "    next_guess.click()\n",
    "except:\n",
    "    # if we cant play a next guess we can play a new game\n",
    "    play_again.click()"
   ]
  },
  {
   "cell_type": "code",
   "execution_count": 270,
   "id": "af21b4ae-5c0e-4b79-9d4f-933e393ffd72",
   "metadata": {},
   "outputs": [],
   "source": [
    "driver.quit()"
   ]
  },
  {
   "cell_type": "code",
   "execution_count": null,
   "id": "6e4afd22-32fb-40ef-90e5-6d7386ebe3a5",
   "metadata": {},
   "outputs": [],
   "source": []
  }
 ],
 "metadata": {
  "kernelspec": {
   "display_name": "Python 3",
   "language": "python",
   "name": "python3"
  },
  "language_info": {
   "codemirror_mode": {
    "name": "ipython",
    "version": 3
   },
   "file_extension": ".py",
   "mimetype": "text/x-python",
   "name": "python",
   "nbconvert_exporter": "python",
   "pygments_lexer": "ipython3",
   "version": "3.8.8"
  }
 },
 "nbformat": 4,
 "nbformat_minor": 5
}
