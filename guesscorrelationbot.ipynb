{
 "cells": [
  {
   "cell_type": "code",
   "execution_count": 1,
   "id": "2c3203cd",
   "metadata": {},
   "outputs": [
    {
     "name": "stdout",
     "output_type": "stream",
     "text": [
      "Collecting selenium\n",
      "  Downloading selenium-3.141.0-py2.py3-none-any.whl (904 kB)\n",
      "Requirement already satisfied: urllib3 in c:\\users\\20167014\\anaconda3\\lib\\site-packages (from selenium) (1.26.4)\n",
      "Installing collected packages: selenium\n",
      "Successfully installed selenium-3.141.0\n"
     ]
    }
   ],
   "source": [
    "!pip install selenium"
   ]
  },
  {
   "cell_type": "code",
   "execution_count": 184,
   "id": "4c55043f",
   "metadata": {},
   "outputs": [],
   "source": [
    "from selenium import webdriver\n",
    "from selenium.webdriver.common.keys import Keys\n",
    "import time\n",
    "import matplotlib.pyplot as plt\n",
    "import scipy.stats"
   ]
  },
  {
   "cell_type": "code",
   "execution_count": 185,
   "id": "5321f35b",
   "metadata": {},
   "outputs": [],
   "source": [
    "PATH = \"D:\\Software\\chromedriver\\chromedriver.exe\"\n",
    "PATH_LAPTOP = \"C:\\Software\\chromedriver.exe\"\n",
    "driver = webdriver.Chrome(PATH_LAPTOP)"
   ]
  },
  {
   "cell_type": "code",
   "execution_count": 186,
   "id": "bd1af8a5",
   "metadata": {},
   "outputs": [],
   "source": [
    "driver.get(\"http://guessthecorrelation.com/\")"
   ]
  },
  {
   "cell_type": "code",
   "execution_count": 187,
   "id": "2a642d1f-d036-4e7c-8c90-7eb7ebc5a3be",
   "metadata": {},
   "outputs": [],
   "source": [
    "# use the same player as before\n",
    "\n",
    "#delete previous local storage\n",
    "driver.execute_script(\"window.localStorage.removeItem('Z3RjX3NldHRpbmdzXzE=')\")\n",
    "\n",
    "# add new local storage\n",
    "driver.execute_script('window.localStorage.setItem(\"firebase:host:gtc4-19cec-default-rtdb.firebaseio.com\", \"s-usc1c-nss-325.firebaseio.com\");')\n",
    "driver.execute_script('window.localStorage.setItem(\"Z3RjX3NldHRpbmdzXzE=\", \"eyJtdXRlZCI6ZmFsc2UsImhpZ2hzY29yZSI6MCwiYnJvd3Nlcl9pZCI6ImI3MGMyMDcwLTg1NzMtM2UwNC1kNzZhLTlhYjVmYWUwY2RiZiIsImNvdW50cnkiOiJOTCIsImlwIjoiNjIuMTk0LjIwLjE0MyIsInVzZXJuYW1lIjoibGpwY3ZnIiwiaXNfYm90IjpmYWxzZX0=\");')\n",
    "driver.execute_script('window.localStorage.setItem(\"Z3RjX2dhbWVkYXRhXzE=\", \"eyJsaXZlcyI6MywiY29pbnMiOjAsInJlc3VtZSI6dHJ1ZSwiZ3Vlc3NlZCI6ZmFsc2UsInJfdHJ1ZSI6MC41MzM4NjEzOTAyODg3ODQ1LCJyX2d1ZXNzIjpudWxsLCJ0aW1lIjowLCJib251cyI6MCwiZGlmZnMiOltdfQ==\");')"
   ]
  },
  {
   "cell_type": "code",
   "execution_count": 188,
   "id": "bc49a179",
   "metadata": {},
   "outputs": [],
   "source": [
    "menu = driver.find_element_by_id(\"menu-content\")\n",
    "new_game = menu.find_element_by_id(\"new-game\")"
   ]
  },
  {
   "cell_type": "code",
   "execution_count": 189,
   "id": "6b1c5409",
   "metadata": {},
   "outputs": [],
   "source": [
    "new_game.click()"
   ]
  },
  {
   "cell_type": "code",
   "execution_count": 197,
   "id": "d3ef0018-dc2d-4057-b4f0-63ea5cfa8e94",
   "metadata": {},
   "outputs": [],
   "source": [
    "#create some interactions for playing the game\n",
    "game = driver.find_element_by_id(\"input-div\")\n",
    "guess = game.find_element_by_id(\"guess-input\")\n",
    "submit = game.find_element_by_id(\"submit-btn\")\n",
    "next_guess = game.find_element_by_id(\"next-btn\")\n",
    "play_again = driver.find_element_by_id(\"play-again-btn\")"
   ]
  },
  {
   "cell_type": "code",
   "execution_count": 198,
   "id": "617ee5f5-9965-498b-a1ce-ffd14942309e",
   "metadata": {},
   "outputs": [],
   "source": [
    "#take a guess between 0 and 100\n",
    "# guess.send_keys(\"75\")"
   ]
  },
  {
   "cell_type": "code",
   "execution_count": null,
   "id": "8f3e72c4-bb86-4f1f-8a03-cc3515538f1b",
   "metadata": {},
   "outputs": [],
   "source": [
    "# submit the guess\n",
    "# submit.click()"
   ]
  },
  {
   "cell_type": "code",
   "execution_count": null,
   "id": "427a3020-2f53-4ecc-857b-e73b94ab1daf",
   "metadata": {},
   "outputs": [],
   "source": [
    "# # next guess\n",
    "# try:\n",
    "#     next_guess.click()\n",
    "# except:\n",
    "#     # if we cant play a next guess we can play a new game\n",
    "#     play_again.click()"
   ]
  },
  {
   "cell_type": "code",
   "execution_count": null,
   "id": "0793aad6-9a8b-48b3-abfa-c84fc1a40df0",
   "metadata": {},
   "outputs": [],
   "source": [
    "# count = 0\n",
    "# while count < 10:\n",
    "#     guess.send_keys(\"75\")\n",
    "#     submit.click()\n",
    "#     try:\n",
    "#         next_guess.click()\n",
    "#     except:\n",
    "#         play_again.click()\n",
    "#     time.sleep(0.5)\n",
    "#     count += 1"
   ]
  },
  {
   "cell_type": "code",
   "execution_count": 155,
   "id": "1482cb66-40c3-43cd-8d83-9c8269fb1339",
   "metadata": {},
   "outputs": [],
   "source": [
    "# how to get the current image to base guess upon?\n",
    "# this method does not use computer vision but simply tries to read out the coordinates\n",
    "# and based upon the coordinates it computes the regression coef upon those values\n",
    "# src_code = driver.page_source\n",
    "# indx = src_code.find(\"path transform\")\n",
    "# scatter_chart = src_code[indx:-1]\n",
    "\n",
    "# raw_coors = scatter_chart.split(\"translate\")\n",
    "# raw_coors = raw_coors[1:-1]# delete first entry\n",
    "\n",
    "# #extract the coordinates from the source code\n",
    "# raw_coors2 = list()\n",
    "# for raw_coor in raw_coors:\n",
    "#     indx_first_brack = raw_coor.find(\"(\")\n",
    "#     raw_coor_up = raw_coor[indx_first_brack+1:-1]\n",
    "#     indx_scnd_brack = raw_coor_up.find(\")\")\n",
    "#     raw_coor_up = raw_coor_up[0:indx_scnd_brack]\n",
    "#     raw_coors2.append(raw_coor_up)"
   ]
  },
  {
   "cell_type": "code",
   "execution_count": 156,
   "id": "df46493a-a644-443d-ac06-3673896f2df5",
   "metadata": {},
   "outputs": [],
   "source": [
    "# create \"coor\" a an array with an array of the coordinates\n",
    "# coors = [[x,x] for x in range(1, 100)]\n",
    "# count = 0\n",
    "# for raw_coor in raw_coors2:\n",
    "#     coors_list = raw_coor.split(\",\")\n",
    "#     first_coor = float(coors_list[0])\n",
    "#     scnd_coor = float(coors_list[1])\n",
    "#     curr_coor = [first_coor, scnd_coor]\n",
    "#     coors[count] = curr_coor\n",
    "#     count += 1"
   ]
  },
  {
   "cell_type": "code",
   "execution_count": 157,
   "id": "4e7fca43-ccb6-4342-bd8a-af2b04e21b67",
   "metadata": {},
   "outputs": [],
   "source": [
    "# see what it would look like with a plot\n",
    "# x = [i for i in range(0,99)]\n",
    "# y = [i for i in range(0,99)]\n",
    "# count = 0\n",
    "# for coor in coors:\n",
    "#     x[count] = coor[0]\n",
    "#     y[count] = coor[1]\n",
    "#     count += 1"
   ]
  },
  {
   "cell_type": "code",
   "execution_count": 158,
   "id": "f91a4b9a-fb17-48e1-9931-654bd36400f9",
   "metadata": {},
   "outputs": [],
   "source": [
    "#computed correlation coef\n",
    "# corr = abs(int(100*round(scipy.stats.pearsonr(x,y)[0],2)))"
   ]
  },
  {
   "cell_type": "code",
   "execution_count": 190,
   "id": "c81c8f79-5859-42e7-aaac-11be56d9aaf4",
   "metadata": {},
   "outputs": [],
   "source": [
    "def compute_guess(driver):\n",
    "    src_code = driver.page_source\n",
    "    indx = src_code.find(\"path transform\")\n",
    "    scatter_chart = src_code[indx:-1]\n",
    "\n",
    "    raw_coors = scatter_chart.split(\"translate\")\n",
    "    raw_coors = raw_coors[1:-1]# delete first entry\n",
    "\n",
    "    #extract the coordinates from the source code\n",
    "    raw_coors2 = list()\n",
    "    for raw_coor in raw_coors:\n",
    "        indx_first_brack = raw_coor.find(\"(\")\n",
    "        raw_coor_up = raw_coor[indx_first_brack+1:-1]\n",
    "        indx_scnd_brack = raw_coor_up.find(\")\")\n",
    "        raw_coor_up = raw_coor_up[0:indx_scnd_brack]\n",
    "        raw_coors2.append(raw_coor_up)\n",
    "        \n",
    "    # create \"coor\" a an array with an array of the coordinates\n",
    "    coors = [[x,x] for x in range(1, 100)]\n",
    "    count = 0\n",
    "    for raw_coor in raw_coors2:\n",
    "        coors_list = raw_coor.split(\",\")\n",
    "        first_coor = float(coors_list[0])\n",
    "        scnd_coor = float(coors_list[1])\n",
    "        curr_coor = [first_coor, scnd_coor]\n",
    "        coors[count] = curr_coor\n",
    "        count += 1\n",
    "        \n",
    "    # see what it would look like with a plot\n",
    "    x = [i for i in range(0,99)]\n",
    "    y = [i for i in range(0,99)]\n",
    "    count = 0\n",
    "    for coor in coors:\n",
    "        x[count] = coor[0]\n",
    "        y[count] = coor[1]\n",
    "        count += 1\n",
    "        \n",
    "    #computed correlation coef\n",
    "    corr = abs(int(100*round(scipy.stats.pearsonr(x,y)[0],2)))\n",
    "    \n",
    "    return corr"
   ]
  },
  {
   "cell_type": "code",
   "execution_count": null,
   "id": "fe4a6ccb-07bc-469d-abe3-f9a47550d4a6",
   "metadata": {},
   "outputs": [],
   "source": []
  },
  {
   "cell_type": "code",
   "execution_count": 201,
   "id": "af21b4ae-5c0e-4b79-9d4f-933e393ffd72",
   "metadata": {},
   "outputs": [
    {
     "name": "stdout",
     "output_type": "stream",
     "text": [
      "guess_number: 37\n",
      "guess_number: 8\n",
      "guess_number: 74\n",
      "guess_number: 61\n",
      "guess_number: 49\n"
     ]
    }
   ],
   "source": [
    "# example of the bot, quite barebones\n",
    "\n",
    "iterations = 5\n",
    "count = 0\n",
    "while count < iterations:\n",
    "    guess_number = compute_guess(driver)\n",
    "    print(\"guess_number: {}\".format(guess_number))\n",
    "    time.sleep(1)\n",
    "    guess.send_keys(\"{}\".format(guess_number))\n",
    "    submit.click()\n",
    "    try:\n",
    "        next_guess.click()\n",
    "    except:\n",
    "        play_again.click()\n",
    "    time.sleep(1)\n",
    "    count += 1"
   ]
  },
  {
   "cell_type": "code",
   "execution_count": 183,
   "id": "dfe66bce-f8a4-47ea-8a45-8d9580c4f0f5",
   "metadata": {},
   "outputs": [],
   "source": [
    "driver.quit()"
   ]
  },
  {
   "cell_type": "code",
   "execution_count": null,
   "id": "6e4afd22-32fb-40ef-90e5-6d7386ebe3a5",
   "metadata": {},
   "outputs": [],
   "source": []
  }
 ],
 "metadata": {
  "kernelspec": {
   "display_name": "Python 3",
   "language": "python",
   "name": "python3"
  },
  "language_info": {
   "codemirror_mode": {
    "name": "ipython",
    "version": 3
   },
   "file_extension": ".py",
   "mimetype": "text/x-python",
   "name": "python",
   "nbconvert_exporter": "python",
   "pygments_lexer": "ipython3",
   "version": "3.8.8"
  }
 },
 "nbformat": 4,
 "nbformat_minor": 5
}
