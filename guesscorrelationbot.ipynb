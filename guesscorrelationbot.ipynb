{
 "cells": [
  {
   "cell_type": "code",
   "execution_count": 1,
   "id": "2c3203cd",
   "metadata": {},
   "outputs": [
    {
     "name": "stdout",
     "output_type": "stream",
     "text": [
      "Collecting selenium\n",
      "  Downloading selenium-3.141.0-py2.py3-none-any.whl (904 kB)\n",
      "Requirement already satisfied: urllib3 in c:\\users\\20167014\\anaconda3\\lib\\site-packages (from selenium) (1.26.4)\n",
      "Installing collected packages: selenium\n",
      "Successfully installed selenium-3.141.0\n"
     ]
    }
   ],
   "source": [
    "!pip install selenium"
   ]
  },
  {
   "cell_type": "code",
   "execution_count": 127,
   "id": "4c55043f",
   "metadata": {},
   "outputs": [],
   "source": [
    "from selenium import webdriver\n",
    "from selenium.webdriver.common.keys import Keys\n",
    "import time\n",
    "import matplotlib.pyplot as plt\n",
    "import scipy.stats\n",
    "from selenium.webdriver.support.ui import WebDriverWait\n",
    "from selenium.webdriver.support import expected_conditions as EC\n",
    "from selenium.webdriver.common.by import By\n",
    "from selenium.common.exceptions import TimeoutException"
   ]
  },
  {
   "cell_type": "code",
   "execution_count": 128,
   "id": "5321f35b",
   "metadata": {},
   "outputs": [],
   "source": [
    "PATH = \"D:\\Software\\chromedriver\\chromedriver.exe\"\n",
    "PATH_LAPTOP = \"C:\\Software\\chromedriver.exe\"\n",
    "driver = webdriver.Chrome(PATH)"
   ]
  },
  {
   "cell_type": "code",
   "execution_count": 129,
   "id": "bd1af8a5",
   "metadata": {},
   "outputs": [],
   "source": [
    "driver.get(\"http://guessthecorrelation.com/\")"
   ]
  },
  {
   "cell_type": "code",
   "execution_count": 130,
   "id": "2a642d1f-d036-4e7c-8c90-7eb7ebc5a3be",
   "metadata": {},
   "outputs": [],
   "source": [
    "# bypass username request\n",
    "\n",
    "#delete previous local storage\n",
    "driver.execute_script(\"window.localStorage.removeItem('Z3RjX3NldHRpbmdzXzE=')\")\n",
    "\n",
    "# add new local storage\n",
    "driver.execute_script('window.localStorage.setItem(\"firebase:host:gtc4-19cec-default-rtdb.firebaseio.com\", \"s-usc1c-nss-325.firebaseio.com\");')\n",
    "driver.execute_script('window.localStorage.setItem(\"Z3RjX3NldHRpbmdzXzE=\", \"eyJtdXRlZCI6ZmFsc2UsImhpZ2hzY29yZSI6MCwiYnJvd3Nlcl9pZCI6ImI3MGMyMDcwLTg1NzMtM2UwNC1kNzZhLTlhYjVmYWUwY2RiZiIsImNvdW50cnkiOiJOTCIsImlwIjoiNjIuMTk0LjIwLjE0MyIsInVzZXJuYW1lIjoibGpwY3ZnIiwiaXNfYm90IjpmYWxzZX0=\");')\n",
    "driver.execute_script('window.localStorage.setItem(\"Z3RjX2dhbWVkYXRhXzE=\", \"eyJsaXZlcyI6MywiY29pbnMiOjAsInJlc3VtZSI6dHJ1ZSwiZ3Vlc3NlZCI6ZmFsc2UsInJfdHJ1ZSI6MC41MzM4NjEzOTAyODg3ODQ1LCJyX2d1ZXNzIjpudWxsLCJ0aW1lIjowLCJib251cyI6MCwiZGlmZnMiOltdfQ==\");')"
   ]
  },
  {
   "cell_type": "code",
   "execution_count": 43,
   "id": "bc49a179",
   "metadata": {},
   "outputs": [],
   "source": [
    "menu = driver.find_element_by_id(\"menu-content\")\n",
    "new_game = menu.find_element_by_id(\"new-game\")"
   ]
  },
  {
   "cell_type": "code",
   "execution_count": 44,
   "id": "6b1c5409",
   "metadata": {},
   "outputs": [],
   "source": [
    "new_game.click()"
   ]
  },
  {
   "cell_type": "code",
   "execution_count": 131,
   "id": "d3ef0018-dc2d-4057-b4f0-63ea5cfa8e94",
   "metadata": {},
   "outputs": [],
   "source": [
    "#create some interactions for playing the game\n",
    "game = driver.find_element_by_id(\"input-div\")\n",
    "guess = game.find_element_by_id(\"guess-input\")\n",
    "submit = game.find_element_by_id(\"submit-btn\")\n",
    "next_guess = game.find_element_by_id(\"next-btn\")\n",
    "play_again = driver.find_element_by_id(\"play-again-btn\")"
   ]
  },
  {
   "cell_type": "code",
   "execution_count": 132,
   "id": "c81c8f79-5859-42e7-aaac-11be56d9aaf4",
   "metadata": {},
   "outputs": [],
   "source": [
    "def compute_guess(driver):    \n",
    "    src_code = driver.page_source\n",
    "    indx = src_code.find(\"path transform\")\n",
    "    scatter_chart = src_code[indx:-1]\n",
    "\n",
    "    raw_coors = scatter_chart.split(\"translate\")\n",
    "    raw_coors = raw_coors[1:-1]# delete first entry\n",
    "\n",
    "    #extract the coordinates from the source code\n",
    "    raw_coors2 = list()\n",
    "    for raw_coor in raw_coors:\n",
    "        indx_first_brack = raw_coor.find(\"(\")\n",
    "        raw_coor_up = raw_coor[indx_first_brack+1:-1]\n",
    "        indx_scnd_brack = raw_coor_up.find(\")\")\n",
    "        raw_coor_up = raw_coor_up[0:indx_scnd_brack]\n",
    "        raw_coors2.append(raw_coor_up)\n",
    "        \n",
    "    # create \"coor\" a an array with an array of the coordinates\n",
    "    coors = [[x,x] for x in range(1, 100)]\n",
    "    count = 0\n",
    "    for raw_coor in raw_coors2:\n",
    "        coors_list = raw_coor.split(\",\")\n",
    "        first_coor = float(coors_list[0])\n",
    "        scnd_coor = float(coors_list[1])\n",
    "        curr_coor = [first_coor, scnd_coor]\n",
    "        coors[count] = curr_coor\n",
    "        count += 1\n",
    "        \n",
    "    # see what it would look like with a plot\n",
    "    x = [0 for i in range(0,99)]\n",
    "    y = [0 for i in range(0,99)]\n",
    "    count = 0\n",
    "    for coor in coors:\n",
    "        x[count] = coor[0]\n",
    "        y[count] = coor[1]\n",
    "        count += 1\n",
    "        \n",
    "    #computed correlation coef\n",
    "    corr = abs(int(100*round(scipy.stats.pearsonr(x,y)[0],2)))\n",
    "        \n",
    "    return corr"
   ]
  },
  {
   "cell_type": "code",
   "execution_count": null,
   "id": "fe4a6ccb-07bc-469d-abe3-f9a47550d4a6",
   "metadata": {},
   "outputs": [],
   "source": []
  },
  {
   "cell_type": "code",
   "execution_count": 133,
   "id": "af21b4ae-5c0e-4b79-9d4f-933e393ffd72",
   "metadata": {},
   "outputs": [],
   "source": [
    "# iterations = 500\n",
    "# count = 0\n",
    "# while count < iterations:\n",
    "#     guess_number = compute_guess(driver)\n",
    "#     guess.send_keys(\"{}\".format(guess_number))\n",
    "#     submit.click()\n",
    "#     try:\n",
    "#         next_guess.click()\n",
    "#     except:\n",
    "#         play_again.click()\n",
    "#     time.sleep(.15)\n",
    "#     count += 1"
   ]
  },
  {
   "cell_type": "code",
   "execution_count": null,
   "id": "dfe66bce-f8a4-47ea-8a45-8d9580c4f0f5",
   "metadata": {},
   "outputs": [],
   "source": [
    "while True:\n",
    "    guess_number = compute_guess(driver)\n",
    "    guess.send_keys(\"{}\".format(guess_number))\n",
    "    submit.click()\n",
    "    try:\n",
    "        next_guess.click()\n",
    "    except:\n",
    "        play_again.click()\n",
    "    time.sleep(0.25)"
   ]
  },
  {
   "cell_type": "code",
   "execution_count": 43,
   "id": "6e4afd22-32fb-40ef-90e5-6d7386ebe3a5",
   "metadata": {},
   "outputs": [],
   "source": []
  },
  {
   "cell_type": "code",
   "execution_count": 126,
   "id": "ec67e7b6-d35c-478f-99e2-358ad4af83ce",
   "metadata": {},
   "outputs": [],
   "source": [
    "driver.quit()"
   ]
  },
  {
   "cell_type": "code",
   "execution_count": null,
   "id": "40fea663-8c31-4b7d-9a67-c9383dc3c728",
   "metadata": {},
   "outputs": [],
   "source": []
  }
 ],
 "metadata": {
  "kernelspec": {
   "display_name": "Python 3",
   "language": "python",
   "name": "python3"
  },
  "language_info": {
   "codemirror_mode": {
    "name": "ipython",
    "version": 3
   },
   "file_extension": ".py",
   "mimetype": "text/x-python",
   "name": "python",
   "nbconvert_exporter": "python",
   "pygments_lexer": "ipython3",
   "version": "3.8.8"
  }
 },
 "nbformat": 4,
 "nbformat_minor": 5
}
